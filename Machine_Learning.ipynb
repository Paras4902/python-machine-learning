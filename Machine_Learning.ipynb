{
 "cells": [
  {
   "cell_type": "code",
   "execution_count": 2,
   "id": "7e566e53",
   "metadata": {},
   "outputs": [],
   "source": [
    "import pandas as pd\n",
    "from sklearn.tree import DecisionTreeClassifier"
   ]
  },
  {
   "cell_type": "code",
   "execution_count": 7,
   "id": "9181ffcf",
   "metadata": {},
   "outputs": [],
   "source": [
    "subjects_data = pd.read_csv(\"datasets/subjects.csv\")\n",
    "input_set = subjects_data.drop(columns=[\"subject\"])\n",
    "output_set = subjects_data[\"subject\"]"
   ]
  },
  {
   "cell_type": "code",
   "execution_count": 10,
   "id": "53edab86",
   "metadata": {},
   "outputs": [
    {
     "data": {
      "text/plain": [
       "array(['Biology', 'Chemistry'], dtype=object)"
      ]
     },
     "execution_count": 10,
     "metadata": {},
     "output_type": "execute_result"
    }
   ],
   "source": [
    "model = DecisionTreeClassifier()\n",
    "model.fit(input_set.values, output_set.values)\n",
    "prediction = model.predict([[39, 1], [45, 0]])\n",
    "prediction"
   ]
  }
 ],
 "metadata": {
  "kernelspec": {
   "display_name": "Python 3 (ipykernel)",
   "language": "python",
   "name": "python3"
  },
  "language_info": {
   "codemirror_mode": {
    "name": "ipython",
    "version": 3
   },
   "file_extension": ".py",
   "mimetype": "text/x-python",
   "name": "python",
   "nbconvert_exporter": "python",
   "pygments_lexer": "ipython3",
   "version": "3.10.1"
  }
 },
 "nbformat": 4,
 "nbformat_minor": 5
}
